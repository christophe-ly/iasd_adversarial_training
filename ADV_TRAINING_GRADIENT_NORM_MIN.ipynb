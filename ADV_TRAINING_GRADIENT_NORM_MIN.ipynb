{
  "nbformat": 4,
  "nbformat_minor": 0,
  "metadata": {
    "colab": {
      "name": "ADV_TRAINING_GRADIENT_NORM_MIN.ipynb",
      "provenance": [],
      "collapsed_sections": []
    },
    "kernelspec": {
      "display_name": "Python 3",
      "name": "python3"
    },
    "language_info": {
      "name": "python"
    }
  },
  "cells": [
    {
      "cell_type": "markdown",
      "metadata": {
        "id": "lbUho18zZF50"
      },
      "source": [
        "# **ATTACKS.PY**"
      ]
    },
    {
      "cell_type": "code",
      "metadata": {
        "id": "6Rfx2U_oZN8A"
      },
      "source": [
        "import torch\n",
        "import torchvision\n",
        "import numpy as np\n",
        "import torch.nn as nn\n",
        "import torch.nn.functional as F\n",
        "import torch.optim as optim\n",
        "import torch.utils.data\n",
        "import torchvision.transforms as transforms\n",
        "import random\n",
        "\n",
        "########## Fast Gradient Sign Method attack ####################################\n",
        "### model : the network to attack\n",
        "### x : the vanilla inputs\n",
        "### y : the true classes (untargeted) / the target classes (targeted)\n",
        "### eps : the stepsize\n",
        "### targeted : wether to use the targeted attack or not\n",
        "def attack_FGSM(model, x, y, eps, targeted=False):\n",
        "    model.eval()            # We put the model in eval mode to avoid any stochasticity\n",
        "    x.requires_grad_(True)  # We track the gradients of the input\n",
        "\n",
        "    logits = model(torch.clamp(x,0,1))\n",
        "    loss   = F.cross_entropy(logits, y)\n",
        "    loss.backward()\n",
        "\n",
        "    if not targeted:    x_adv  = x.detach() + eps * torch.sign(x.grad)  # We increase the loss wrt true classes\n",
        "    else:               x_adv  = x.detach() - eps * torch.sign(x.grad)  # We decrease the loss wrt target classes\n",
        "\n",
        "    x = x.detach()\n",
        "    model.zero_grad()\n",
        "    return x_adv.detach()\n",
        "\n",
        "\n",
        "########## Projects points onto the lp-norm if outside ###########\n",
        "### x : points to be projected\n",
        "### eps : radius of norm-ball\n",
        "### p : Lp norm of ball\n",
        "def project(x, eps, p=2):\n",
        "    if p==\"inf\":\n",
        "        x = torch.clamp(x,-eps,eps)\n",
        "    else:\n",
        "        norms = torch.norm(x.view(x.size(0),-1),dim=1,p=p)\n",
        "        norms[norms==0] = 1                          # To avoid division by zero\n",
        "        mask  = (norms > eps)                        # We select only inputs of the batch with a norm > eps\n",
        "        x[mask] /= norms[mask].view(-1,1,1,1)        # Project onto p-norm ball of radius 1\n",
        "        x[mask] *= eps                               # Multiply by eps\n",
        "    return x\n",
        "\n",
        "########## Projected Gradient Descent attack ###################################\n",
        "### model : the network to attack\n",
        "### x : the vanilla inputs\n",
        "### y : the true classes (untargeted) / the target classes (targeted)\n",
        "### eps : the radius of the norm-ball in which we want our perturbation\n",
        "### stepsize : the stepsize\n",
        "### iterations : the number of iterations\n",
        "### p : the norm to use (l2, linf...)\n",
        "### targeted : wether to use the targeted attack or not\n",
        "def attack_PGD(model, x, y, eps, stepsize, iterations, p=2, targeted=False):\n",
        "    model.eval()  # We put the model in eval mode to avoid any stochasticity\n",
        "\n",
        "    # Start with a random point inside norm-ball\n",
        "    if p==\"inf\":\n",
        "        delta = (torch.rand(x.size()) * 2 - 1) * eps    # Each values ~ uniform(-eps,eps)\n",
        "    else:\n",
        "        delta = torch.randn_like(x)                                             # Generate random direction\n",
        "        norms = torch.norm(delta.view(delta.size(0),-1), dim=1, p=p)\n",
        "        norms[norms==0] = 1                                                     # To avoid division by zero\n",
        "        delta /= norms.view(-1,1,1,1)                                           # Project onto p-norm ball of radius 1\n",
        "        delta *= torch.rand((delta.size(0),1,1,1)).to(device) * eps                        # Multiply each value by f ~ uniform(0,eps)\n",
        "\n",
        "    delta = delta.to(device)\n",
        "    # Iterately take a step of fixed norm, the project on p-norm ball if necessary\n",
        "    for i in range(iterations):\n",
        "        x_adv = x + delta\n",
        "        x_adv.requires_grad_(True)\n",
        "        logits = model(torch.clamp(x_adv,0,1))\n",
        "        loss   = F.cross_entropy(logits,y)\n",
        "        loss.backward()\n",
        "\n",
        "        # Update image with a fixed stepsize\n",
        "        if p==\"inf\":\n",
        "            gradient = torch.sign(x_adv.grad) * stepsize\n",
        "        else:\n",
        "            gradient  = x_adv.grad                                                # Take the gradient direction\n",
        "            norms     = torch.norm(gradient.view(gradient.size(0),-1),dim=1,p=p)\n",
        "            norms[norms==0] = 1                                                   # To avoid division by zero\n",
        "            gradient /= norms.view(-1,1,1,1)                                      # Project onto p-norm ball of radius 1\n",
        "            gradient *= stepsize                                                  # Multipy by stepsize\n",
        "\n",
        "        if not targeted :   x_adv = x_adv.detach() + gradient \n",
        "        else:               x_adv = x_adv.detach() - gradient\n",
        "\n",
        "        # Project delta onto p-norm ball of radius eps if necessary\n",
        "        delta = (x_adv - x).detach()\n",
        "        delta = project(delta, eps, p)\n",
        "\n",
        "    x = x.detach()\n",
        "    model.zero_grad()\n",
        "    return torch.clamp(x + delta,0,1)"
      ],
      "execution_count": null,
      "outputs": []
    },
    {
      "cell_type": "markdown",
      "metadata": {
        "id": "HKNqOrIpY4HP"
      },
      "source": [
        "# **MODEL.py**"
      ]
    },
    {
      "cell_type": "code",
      "metadata": {
        "colab": {
          "base_uri": "https://localhost:8080/"
        },
        "id": "ZG2i5qIwY8tu",
        "outputId": "6c41c987-3824-4846-d0a0-dc41aae6786a"
      },
      "source": [
        "#!/usr/bin/env python3 \n",
        "import os\n",
        "import argparse\n",
        "import torch\n",
        "import torchvision\n",
        "import numpy as np\n",
        "import torch.nn as nn\n",
        "import torch.nn.functional as F\n",
        "import torch.optim as optim\n",
        "from torch.optim.lr_scheduler import * \n",
        "import torch.utils.data\n",
        "import torchvision.transforms as transforms\n",
        "\n",
        "use_cuda = torch.cuda.is_available()\n",
        "device = torch.device(\"cuda\" if use_cuda else \"cpu\")\n",
        "\n",
        "valid_size = 1024 \n",
        "batch_size = 128\n",
        "\n",
        "class Net(nn.Module):\n",
        "\n",
        "    model_file=\"models/default_model.pth\"\n",
        "\n",
        "    def __init__(self):\n",
        "        super().__init__()\n",
        "        self.conv1 = nn.Conv2d(3, 32, 5, padding=2)  # 32 * 32\n",
        "        self.conv2 = nn.Conv2d(32, 64, 5, padding=2) # 16 * 16\n",
        "        self.conv3 = nn.Conv2d(64, 64, 5, padding=2) # 8 * 8\n",
        "        self.fc1 = nn.Linear(64 * 8 * 8, 1000)\n",
        "        self.fc2 = nn.Linear(1000, 128)\n",
        "        self.fc3 = nn.Linear(128, 10)\n",
        "        self.pool = nn.MaxPool2d(2, 2)\n",
        "        self.bn1  = nn.BatchNorm2d(32)\n",
        "        self.bn2  = nn.BatchNorm2d(64)\n",
        "        self.bn3  = nn.BatchNorm2d(64)\n",
        "\n",
        "    def forward(self, x):\n",
        "        x = F.relu(self.bn1(self.conv1(x)))\n",
        "        x = self.pool(F.relu(self.bn2(self.conv2(x))))\n",
        "        x = self.pool(F.relu(self.bn3(self.conv3(x))))\n",
        "        x = torch.flatten(x, 1)\n",
        "        x = F.relu(self.fc1(x))\n",
        "        x = F.relu(self.fc2(x))\n",
        "        x = self.fc3(x)\n",
        "        return x\n",
        "\n",
        "    def save(self, model_file):\n",
        "        '''Helper function, use it to save the model weights after training.'''\n",
        "        torch.save(self.state_dict(), model_file)\n",
        "\n",
        "    def load(self, model_file):\n",
        "        self.load_state_dict(torch.load(model_file, map_location=torch.device(device)))\n",
        "\n",
        "        \n",
        "    def load_for_testing(self, project_dir='./'):\n",
        "        '''This function will be called automatically before testing your\n",
        "           project, and will load the model weights from the file\n",
        "           specify in Net.model_file.\n",
        "           \n",
        "           You must not change the prototype of this function. You may\n",
        "           add extra code in its body if you feel it is necessary, but\n",
        "           beware that paths of files used in this function should be\n",
        "           refered relative to the root of your project directory.\n",
        "        '''        \n",
        "        self.load(os.path.join(project_dir, Net.model_file))\n",
        "\n",
        "def train_model(net, train_loader, pth_filename, num_epochs, adv=\"\"):\n",
        "    '''Basic training function (TODO)'''\n",
        "    print(\"Starting training\")\n",
        "    optimizer = optim.SGD(net.parameters(),lr=0.1, momentum=0.0005)\n",
        "\n",
        "    ############################################################################################################\n",
        "    scheduler = CosineAnnealingLR(optimizer, num_epochs, eta_min=0)\n",
        "    if os.path.exists(path+\"models/checkpoint_scheduler.pth\"):   \n",
        "      net.load(pth_filename)\n",
        "      scheduler.load_state_dict(torch.load(path+\"models/checkpoint_scheduler.pth\"))\n",
        "      optimizer.load_state_dict(torch.load(path+\"models/checkpoint_optimizer.pth\"))\n",
        "      last_epoch = scheduler.last_epoch\n",
        "    else:                                         \n",
        "      last_epoch = 0\n",
        "    ############################################################################################################\n",
        "\n",
        "    mean_loss   = 0\n",
        "    mean_norm   = 0\n",
        "    batch_count = 0\n",
        "\n",
        "    net.train()\n",
        "\n",
        "    for epoch in range(last_epoch, num_epochs):  # loop over the dataset multiple times\n",
        "\n",
        "        for param_group in optimizer.param_groups:\n",
        "          print(f\"Learning Rate : {param_group['lr']}\")\n",
        "\n",
        "        print(\"--- Training epoch {}\".format(epoch))\n",
        "        for i, data in enumerate(train_loader, 0):\n",
        "            # get the inputs; data is a list of [inputs, labels]\n",
        "            inputs, labels = data[0].to(device), data[1].to(device)\n",
        "            norm = None\n",
        "            loss = None\n",
        "            ############################################################################################################\n",
        "            if adv==\"PGD\":\n",
        "              inputs = attack_PGD(net,inputs,labels,10/255,2/255,10,\"inf\",False)\n",
        "              net.train()\n",
        "            elif adv==\"Gradients\":\n",
        "              norm = None \n",
        "              loss = None\n",
        "              inputs.requires_grad_(True)\n",
        "              optimizer.zero_grad()\n",
        "              grad, = torch.autograd.grad(F.cross_entropy(net(inputs),labels), inputs, create_graph=True)\n",
        "              loss  = F.cross_entropy(net(inputs.detach()),labels)\n",
        "              norm  = torch.norm(grad,p=2)\n",
        "              total_loss = loss + 1000 * norm**2\n",
        "              total_loss.backward()\n",
        "              optimizer.step()\n",
        "              inputs.requires_grad_(False)\n",
        "            ############################################################################################################\n",
        "\n",
        "            if adv!=\"Gradients\":\n",
        "              optimizer.zero_grad()\n",
        "              logits = net(inputs)\n",
        "              loss   = F.cross_entropy(logits,labels)\n",
        "              loss.backward()\n",
        "              optimizer.step()\n",
        "\n",
        "            mean_loss   += loss.detach().item()\n",
        "            if adv==\"Gradients\":\n",
        "              mean_norm   += norm.detach().item()\n",
        "            batch_count += 1\n",
        "            if (batch_count % 10 == 0):\n",
        "              print(f\"* Batch {i+1}/{len(train_loader)} : {mean_loss/batch_count}\")\n",
        "              mean_loss   = 0\n",
        "              batch_count = 0\n",
        "\n",
        "        ###########################################################\n",
        "        scheduler.step()\n",
        "        net.save(pth_filename)\n",
        "        print('Model saved in {}'.format(pth_filename))\n",
        "        torch.save(scheduler.state_dict(), path+\"models/checkpoint_scheduler.pth\")\n",
        "        torch.save(optimizer.state_dict(), path+\"models/checkpoint_optimizer.pth\")\n",
        "        ###########################################################\n",
        "\n",
        "\n",
        "    net.save(pth_filename)\n",
        "    print('Model saved in {}'.format(pth_filename))\n",
        "    os.remove(path+\"models/checkpoint_scheduler.pth\")\n",
        "    os.remove(path+\"models/checkpoint_optimizer.pth\")\n",
        "\n",
        "def test_natural(net, test_loader):\n",
        "    '''Basic testing function.'''\n",
        "\n",
        "    correct = 0\n",
        "    total = 0\n",
        "    # since we're not training, we don't need to calculate the gradients for our outputs\n",
        "    with torch.no_grad():\n",
        "        for i,data in enumerate(test_loader, 0):\n",
        "            images, labels = data[0].to(device), data[1].to(device)\n",
        "            # calculate outputs by running images through the network\n",
        "            outputs = net(images)\n",
        "            # the class with the highest energy is what we choose as prediction\n",
        "            _, predicted = torch.max(outputs.data, 1)\n",
        "            total += labels.size(0)\n",
        "            correct += (predicted == labels).sum().item()\n",
        "\n",
        "    return 100 * correct / total\n",
        "\n",
        "def test_adv(net, test_loader, attack_fn):\n",
        "    '''Basic testing function.'''\n",
        "\n",
        "    correct = 0\n",
        "    total = 0\n",
        "    # since we're not training, we don't need to calculate the gradients for our outputs\n",
        "    for i,data in enumerate(test_loader, 0):\n",
        "        images, labels = data[0].to(device), data[1].to(device)\n",
        "\n",
        "        images_adv = attack_fn(net, images, labels)\n",
        "\n",
        "        # calculate outputs by running images through the network\n",
        "        outputs = net(images_adv)\n",
        "        # the class with the highest energy is what we choose as prediction\n",
        "        _, predicted = torch.max(outputs.data, 1)\n",
        "        total += labels.size(0)\n",
        "        correct += (predicted == labels).sum().item()\n",
        "\n",
        "    return 100 * correct / total\n",
        "\n",
        "def get_train_loader(dataset, valid_size=1024, batch_size=128):\n",
        "    '''Split dataset into [train:valid] and return a DataLoader for the training part.'''\n",
        "\n",
        "    indices = list(range(len(dataset)))\n",
        "    train_sampler = torch.utils.data.SubsetRandomSampler(indices[valid_size:])\n",
        "    train = torch.utils.data.DataLoader(dataset, sampler=train_sampler, batch_size=batch_size)\n",
        "\n",
        "    return train\n",
        "\n",
        "def get_validation_loader(dataset, valid_size=1024, batch_size=32):\n",
        "    '''Split dataset into [train:valid] and return a DataLoader for the validation part.'''\n",
        "\n",
        "    indices = list(range(len(dataset)))\n",
        "    valid_sampler = torch.utils.data.SubsetRandomSampler(indices[:valid_size])\n",
        "    valid = torch.utils.data.DataLoader(dataset, sampler=valid_sampler, batch_size=batch_size)\n",
        "\n",
        "    return valid\n",
        "\n",
        "def main(model_name=\"model\", epochs=100, method=\"\"):\n",
        "\n",
        "    '''\n",
        "    #### Parse command line arguments \n",
        "    parser = argparse.ArgumentParser()\n",
        "    parser.add_argument(\"--model-file\", default=Net.model_file,\n",
        "                        help=\"Name of the file used to load or to sore the model weights.\"\\\n",
        "                        \"If the file exists, the weights will be load from it.\"\\\n",
        "                        \"If the file doesn't exists, or if --force-train is set, training will be performed, \"\\\n",
        "                        \"and the model weights will be stored in this file.\"\\\n",
        "                        \"Warning: \"+Net.model_file+\" will be used for testing (see load_for_testing()).\")\n",
        "    parser.add_argument('-f', '--force-train', action=\"store_true\",\n",
        "                        help=\"Force training even if model file already exists\"\\\n",
        "                             \"Warning: previous model file will be erased!).\")\n",
        "    parser.add_argument('-e', '--num-epochs', type=int, default=10,\n",
        "                        help=\"Set the number of epochs during training\")\n",
        "    args = parser.parse_args()\n",
        "    '''\n",
        "\n",
        "    class Args:\n",
        "\n",
        "      def __init__(self, mf,ft,ne):\n",
        "        self.model_file=mf\n",
        "        self.force_train=ft\n",
        "        self.num_epochs=ne\n",
        "\n",
        "    args = Args(\"models/\"+model_name+\".pth\",True,epochs)\n",
        "\n",
        "    #### Create model and move it to whatever device is available (gpu/cpu)\n",
        "    net = Net()\n",
        "    net.to(device)\n",
        "\n",
        "    #### Model training (if necessary)\n",
        "    if not os.path.exists(args.model_file) or args.force_train:\n",
        "        print(\"Training model\")\n",
        "        print(args.model_file)\n",
        "\n",
        "        train_transform = transforms.Compose([ transforms.RandomHorizontalFlip(),   \n",
        "                                               transforms.RandomCrop(size=32, padding=4), \n",
        "                                               transforms.ToTensor()]) \n",
        "        \n",
        "        cifar = torchvision.datasets.CIFAR10('./data/', download=True, transform=train_transform)\n",
        "        train_loader = get_train_loader(cifar, valid_size, batch_size=batch_size)\n",
        "        train_model(net, train_loader, args.model_file, args.num_epochs,method)\n",
        "        print(\"Model save to '{}'.\".format(args.model_file))\n",
        "\n",
        "    #### Model testing\n",
        "    print(\"Testing with model from '{}'. \".format(args.model_file))\n",
        "\n",
        "    # Note: You should not change the transform applied to the\n",
        "    # validation dataset since, it will be the only transform used\n",
        "    # during final testing.\n",
        "    cifar = torchvision.datasets.CIFAR10('./data/', download=True, transform=transforms.ToTensor()) \n",
        "    valid_loader = get_validation_loader(cifar, valid_size)\n",
        "\n",
        "    net.load(args.model_file)\n",
        "\n",
        "    acc = test_natural(net, valid_loader)\n",
        "    print(\"Model natural accuracy (valid): {}\".format(acc))\n",
        "\n",
        "    if args.model_file != Net.model_file:\n",
        "        print(\"Warning: '{0}' is not the default model file, \"\\\n",
        "              \"it will not be the one used for testing your project. \"\\\n",
        "              \"If this is your best model, \"\\\n",
        "              \"you should rename/link '{0}' to '{1}'.\".format(args.model_file, Net.model_file))\n",
        "'''\n",
        "if __name__ == \"__main__\":\n",
        "    main()\n",
        "'''"
      ],
      "execution_count": null,
      "outputs": [
        {
          "output_type": "execute_result",
          "data": {
            "text/plain": [
              "'\\nif __name__ == \"__main__\":\\n    main()\\n'"
            ]
          },
          "metadata": {},
          "execution_count": 13
        }
      ]
    },
    {
      "cell_type": "code",
      "metadata": {
        "id": "3ClzZoe6dZUj"
      },
      "source": [
        "main(\"vanilla\",100,method=\"\")\n",
        "main(\"robust\",100,method=\"PGD\")\n",
        "main(\"gradients\",100,method=\"Gradients\")"
      ],
      "execution_count": null,
      "outputs": []
    },
    {
      "cell_type": "markdown",
      "source": [
        "# **EVALUATION**"
      ],
      "metadata": {
        "id": "KP2DgcfW2VIg"
      }
    },
    {
      "cell_type": "code",
      "metadata": {
        "id": "Ezm_u8JBrWLp"
      },
      "source": [
        "import matplotlib.pyplot as plt\n",
        "\n",
        "# VANILLA MODEL\n",
        "net = Net()\n",
        "net.to(device)\n",
        "net.load(\"models/vanilla.pth\")\n",
        "\n",
        "# AVD. TRAIN. MODEL\n",
        "net_adv = Net()\n",
        "net_adv.to(device)\n",
        "net_adv.load(\"models/robust.pth\")\n",
        "\n",
        "# GRADIENT NORM MIN. MODEL\n",
        "net_grad = Net()\n",
        "net_grad.to(device)\n",
        "net_grad.load(\"models/gradients.pth\")\n",
        "\n",
        "cifar = torchvision.datasets.CIFAR10('./data/', download=True, transform=transforms.ToTensor()) \n",
        "valid_loader = get_validation_loader(cifar, 1024)"
      ],
      "execution_count": null,
      "outputs": []
    },
    {
      "cell_type": "code",
      "metadata": {
        "id": "-wiBatIfvn-g"
      },
      "source": [
        "def get_graph(model, epsilons, attack):\n",
        "  accuracies = []\n",
        "  for eps in epsilons:\n",
        "    if attack == \"FGSM\":      attack_fn = (lambda n,i,l : attack_FGSM(n,i,l,eps,False))\n",
        "    elif attack == \"PGD-l2\":  attack_fn = (lambda n,i,l : attack_PGD(n,i,l,eps,eps/10,10,2,False))\n",
        "    else:                     attack_fn = (lambda n,i,l : attack_PGD(n,i,l,eps,eps/10,10,\"inf\",False))\n",
        "    acc = test_adv(model, valid_loader, attack_fn)\n",
        "    accuracies.append(acc)\n",
        "\n",
        "  return accuracies"
      ],
      "execution_count": null,
      "outputs": []
    },
    {
      "cell_type": "code",
      "source": [
        "epsilons = [i*0.01 for i in range(21)]\n",
        "accuracies_normal = get_graph(net, epsilons, \"FGSM\")\n",
        "accuracies_adv    = get_graph(net_adv, epsilons, \"FGSM\")\n",
        "accuracies_grad   = get_graph(net_grad, epsilons, \"FGSM\")"
      ],
      "metadata": {
        "id": "ojJO-BHdLvHI"
      },
      "execution_count": null,
      "outputs": []
    },
    {
      "cell_type": "code",
      "source": [
        "plt.plot(epsilons, accuracies_normal, color=\"b\", label=\"Vanilla Training\")\n",
        "plt.plot(epsilons, accuracies_adv, color=\"r\", label=\"Adversarial Training\")\n",
        "#plt.plot(epsilons, accuracies_grad, color=\"g\", label=\"Gradient Minimization\")\n",
        "plt.ylabel(\"Accuracy (%)\")\n",
        "plt.xlabel(\"Epsilon\")\n",
        "plt.legend()\n",
        "plt.show()"
      ],
      "metadata": {
        "colab": {
          "base_uri": "https://localhost:8080/",
          "height": 279
        },
        "id": "LsLMWdKHMDr7",
        "outputId": "f5f5f58f-7ed3-4367-98fe-25b6bb7d107d"
      },
      "execution_count": null,
      "outputs": [
        {
          "output_type": "display_data",
          "data": {
            "text/plain": [
              "<Figure size 432x288 with 1 Axes>"
            ],
            "image/png": "[encoded data removed]"
          },
          "metadata": {
            "needs_background": "light"
          }
        }
      ]
    },
    {
      "cell_type": "code",
      "source": [
        "epsilons = [i*0.1 for i in range(21)]\n",
        "accuracies_normal = get_graph(net, epsilons, \"PGD-l2\")\n",
        "accuracies_adv    = get_graph(net_adv, epsilons, \"PGD-l2\")\n",
        "accuracies_grad   = get_graph(net_grad, epsilons, \"PGD-l2\")"
      ],
      "metadata": {
        "id": "InuVPSSALiU4"
      },
      "execution_count": null,
      "outputs": []
    },
    {
      "cell_type": "code",
      "source": [
        "plt.plot(epsilons, accuracies_normal, color=\"b\", label=\"Vanilla Training\")\n",
        "plt.plot(epsilons, accuracies_adv, color=\"r\", label=\"Adversarial Training\")\n",
        "#plt.plot(epsilons, accuracies_grad, color=\"g\", label=\"Gradient Minimization\")\n",
        "plt.ylabel(\"Accuracy (%)\")\n",
        "plt.xlabel(\"Epsilon\")\n",
        "plt.legend()\n",
        "plt.show()"
      ],
      "metadata": {
        "colab": {
          "base_uri": "https://localhost:8080/",
          "height": 279
        },
        "id": "YQhsykNfOWVd",
        "outputId": "fb918759-0c4e-44b6-b7e4-07345e56cec1"
      },
      "execution_count": null,
      "outputs": [
        {
          "output_type": "display_data",
          "data": {
            "text/plain": [
              "<Figure size 432x288 with 1 Axes>"
            ],
            "image/png": "[encoded data removed]"
          },
          "metadata": {
            "needs_background": "light"
          }
        }
      ]
    },
    {
      "cell_type": "code",
      "source": [
        "epsilons = [i*0.01 for i in range(21)]\n",
        "accuracies_normal = get_graph(net, epsilons, \"PGD-linf\")\n",
        "accuracies_adv    = get_graph(net_adv, epsilons, \"PGD-linf\")\n",
        "accuracies_grad   = get_graph(net_grad, epsilons, \"PGD-linf\")"
      ],
      "metadata": {
        "id": "n6GBecwpP5FD"
      },
      "execution_count": null,
      "outputs": []
    },
    {
      "cell_type": "code",
      "source": [
        "plt.plot(epsilons, accuracies_normal, color=\"b\", label=\"Vanilla Training\")\n",
        "plt.plot(epsilons, accuracies_adv, color=\"r\", label=\"Adversarial Training\")\n",
        "#plt.plot(epsilons, accuracies_grad, color=\"g\", label=\"Gradient Minimization\")\n",
        "plt.ylabel(\"Accuracy (%)\")\n",
        "plt.xlabel(\"Epsilon\")\n",
        "plt.legend()\n",
        "plt.show()"
      ],
      "metadata": {
        "colab": {
          "base_uri": "https://localhost:8080/",
          "height": 279
        },
        "outputId": "20cac504-3e1a-4425-cfea-3e967e457677",
        "id": "aBWqiKpHP5FE"
      },
      "execution_count": null,
      "outputs": [
        {
          "output_type": "display_data",
          "data": {
            "text/plain": [
              "<Figure size 432x288 with 1 Axes>"
            ],
            "image/png": "[encoded data removed]"
          },
          "metadata": {
            "needs_background": "light"
          }
        }
      ]
    }
  ]
}